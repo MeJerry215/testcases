{
 "cells": [
  {
   "cell_type": "markdown",
   "metadata": {},
   "source": [
    "## 随机森林(random forest)\n",
    "\n",
    "Bagging 思想: 随机从总样本中选取出部分样本进行训练，通过多次这样的结果，进行投票获取平均值作为结果输出，可以防止不好的样本数据，提高准确度。\n",
    "\n",
    "而将这种思想应用到决策树，生成多个决策树的方法就是随机森林法。\n",
    "\n",
    "一批数据从样本集中随机选择出N * b个数据，生成决策树，重复该步骤m次，最终得到m个决策树分类器，然后根据这m个分类器的结果投票决定数据属于哪一类。\n",
    "\n",
    "所以随机森林的核心参数就是如何选m，构造出m个决策器。\n",
    "\n",
    "森林中树的特征：\n",
    "- 任意两个树的相关性：相关性越大，错误率越大（要错一起错）\n",
    "- 每棵树的分类能力越强，则森林的能力越强。\n",
    "\n",
    "所以m的越大，树之间的相关性也就越高，从而整个森林的错误率也就越高。\n",
    "\n",
    "优点：\n",
    "- 在当前的很多数据集上，相对其他算法有着很大的优势，表现良好。\n",
    "- 它能够处理很高维度（feature很多）的数据，并且不用做特征选择(因为特征子集是随机选择的)。\n",
    "- 在训练完后，它能够给出哪些feature比较重要。\n",
    "- 训练速度快，容易做成并行化方法(训练时树与树之间是相互独立的)。\n",
    "- 在训练过程中，能够检测到feature间的互相影响。\n",
    "- 对于不平衡的数据集来说，它可以平衡误差。\n",
    "- 如果有很大一部分的特征遗失，仍可以维持准确度。\n",
    "\n",
    "缺点：\n",
    "- 随机森林已经被证明在某些噪音较大的分类或回归问题上会过拟合。\n",
    "- 对于有不同取值的属性的数据，取值划分较多的属性会对随机森林产生更大的影响，所以随机森林在这种数据上产出的属性权值是不可信的。\n",
    "\n"
   ]
  },
  {
   "cell_type": "code",
   "execution_count": 119,
   "metadata": {},
   "outputs": [
    {
     "name": "stdout",
     "output_type": "stream",
     "text": [
      "(404, 13) (404,)\n",
      "[20.7 18.7  8.7 21.9 19.3 24.9 20.6  7.5 43.5 14.6 25.7 23.7 13.8 24.1\n",
      " 15.3 14.3 20.6 16.2 17.5 21.  18.3 23.1 29.6 22.  15.4 15.2 36.1 18.9\n",
      " 21.  24.4 19.6 31.3 44.5 18.7 21.9 12.9 15.5 24.  17.7 27.2 20.8 33.6\n",
      " 16.5 27.5 46.7 21.9 15.6 33.5 23.2 21.3 25.6 33.6 30.6 18.5 27.  17.6\n",
      " 11.9 22.8 28.4 18.7]\n",
      "[20.5 20.5  8.4 20.5 18.7 25.  18.8 10.5 44.  17.8 23.1 23.7 13.3 22.\n",
      " 14.5 11.7 21.  14.6 19.4 20.8 18.3 23.1 50.  16.2 13.3 15.6 33.4 18.5\n",
      " 20.4 24.8 19.8 28.4 44.  19.3 22.  17.1 14.3 23.7 17.7 35.1 21.7 36.1\n",
      " 16.6 28.4 43.1 19.5 15.2 27.9 22.2 22.4 24.5 33.  29.4 16.1 22.8 14.4\n",
      " 15.4 22.9 27.9 14.1]\n",
      "[21.5 18.9  7.  21.2 18.5 29.8 18.8 10.2 50.  14.1 25.2 29.1 12.7 22.4\n",
      " 14.2 13.8 20.3 14.9 21.7 18.3 23.1 23.8 15.  20.8 19.1 19.4 34.7 19.5\n",
      " 24.4 23.4 19.7 28.2 50.  17.4 22.6 15.1 13.1 24.2 19.9 24.  18.9 35.4\n",
      " 15.2 26.5 43.5 21.2 18.4 28.5 23.9 18.5 25.  35.4 31.5 20.2 24.1 20.\n",
      " 13.1 24.8 30.8 12.7]\n",
      "10.48329044117647\n",
      "22.078823529411764\n"
     ]
    }
   ],
   "source": [
    "import pandas as pd\n",
    "from sklearn.ensemble  import RandomForestRegressor\n",
    "from sklearn.tree import DecisionTreeRegressor\n",
    "# from sklearn.datasets import load_boston\n",
    "import numpy as np\n",
    "from sklearn import model_selection\n",
    "from sklearn.metrics import mean_squared_error\n",
    "import random\n",
    "import sklearn\n",
    "\n",
    "np.random.seed(42)\n",
    "random.seed(42)\n",
    "sklearn.random.seed(42)\n",
    "\n",
    "def load_boston():\n",
    "    data_url = \"http://lib.stat.cmu.edu/datasets/boston\"\n",
    "    raw_df = pd.read_csv(data_url, sep=\"\\s+\", skiprows=22, header=None)\n",
    "    data = np.hstack([raw_df.values[::2, :], raw_df.values[1::2, :2]])\n",
    "    target = raw_df.values[1::2, 2]\n",
    "    return data, target\n",
    "\n",
    "data, target = load_boston()\n",
    "\n",
    "train_data, test_data, train_target, test_target = model_selection.train_test_split(data, target, test_size=0.2)\n",
    "\n",
    "print(train_data.shape, train_target.shape)\n",
    "# print(data[:10, :])\n",
    "rgs = RandomForestRegressor(n_estimators=8)  ##随机森林模型\n",
    "rgs = rgs.fit(train_data, train_target)\n",
    "\n",
    "rgs_predict = rgs.predict(test_data)\n",
    "dtr = DecisionTreeRegressor()\n",
    "dtr = dtr.fit(train_data, train_target)\n",
    "dtr_predict = dtr.predict(test_data)\n",
    "\n",
    "np.set_printoptions(precision=1)\n",
    "print(rgs_predict[10:70])\n",
    "print(dtr_predict[10:70])\n",
    "print(test_target[10:70])\n",
    "\n",
    "\n",
    "print(mean_squared_error(rgs_predict, test_target))\n",
    "print(mean_squared_error(dtr_predict, test_target))\n"
   ]
  },
  {
   "cell_type": "code",
   "execution_count": null,
   "metadata": {},
   "outputs": [],
   "source": []
  }
 ],
 "metadata": {
  "kernelspec": {
   "display_name": "Python 3 (ipykernel)",
   "language": "python",
   "name": "python3"
  },
  "language_info": {
   "codemirror_mode": {
    "name": "ipython",
    "version": 3
   },
   "file_extension": ".py",
   "mimetype": "text/x-python",
   "name": "python",
   "nbconvert_exporter": "python",
   "pygments_lexer": "ipython3",
   "version": "3.10.13"
  }
 },
 "nbformat": 4,
 "nbformat_minor": 2
}
