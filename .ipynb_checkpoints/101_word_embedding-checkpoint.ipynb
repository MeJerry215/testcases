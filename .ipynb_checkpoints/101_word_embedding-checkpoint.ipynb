{
 "cells": [
  {
   "cell_type": "code",
   "execution_count": null,
   "id": "f03b63cf-4d09-4b6f-ac6e-bb2f9d0e8c9c",
   "metadata": {},
   "outputs": [],
   "source": [
    "sentences = (\n",
    "    \"Jane wants to go to Shenzhen\",\n",
    "    \"Bob wants to go to Shanghai\"\n",
    ")\n",
    "\n",
    "## bag of words\n",
    "words = [ word for sentence in sentences for word in sentence.split(\" \")]\n",
    "words = tuple(set(words))\n",
    "print(words)\n",
    "\n",
    "def bag_of_words(sentence: str, words: tuple):\n",
    "    return [sentence.split(\" \").count(word) for word in words]\n",
    "\n",
    "print(bag_of_words(sentences[0], words))\n",
    "print(bag_of_words(sentences[1], words))\n",
    "\n",
    "tokens = [ sentence.split(\" \") for sentence in sentences]\n",
    "\n"
   ]
  }
 ],
 "metadata": {
  "kernelspec": {
   "display_name": "Python 3 (ipykernel)",
   "language": "python",
   "name": "python3"
  },
  "language_info": {
   "codemirror_mode": {
    "name": "ipython",
    "version": 3
   },
   "file_extension": ".py",
   "mimetype": "text/x-python",
   "name": "python",
   "nbconvert_exporter": "python",
   "pygments_lexer": "ipython3",
   "version": "3.10.13"
  }
 },
 "nbformat": 4,
 "nbformat_minor": 5
}
