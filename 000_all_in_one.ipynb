{
 "cells": [
  {
   "cell_type": "code",
   "execution_count": 43,
   "metadata": {},
   "outputs": [
    {
     "name": "stdout",
     "output_type": "stream",
     "text": [
      "tensor([[-0.5964, -1.1924,  0.2651,  0.8247],\n",
      "        [-0.0318, -0.0435, -1.2811, -0.1063],\n",
      "        [-2.1027,  0.2669,  0.4188,  0.3299]])\n",
      "[[ 0.49671415 -0.1382643   0.64768854  1.52302986]\n",
      " [-0.23415337 -0.23413696  1.57921282  0.76743473]\n",
      " [-0.46947439  0.54256004 -0.46341769 -0.46572975]]\n",
      "tensor([[-0.5964, -1.1924,  0.2651,  0.8247],\n",
      "        [-0.0318, -0.0435, -1.2811, -0.1063],\n",
      "        [-2.1027,  0.2669,  0.4188,  0.3299]])\n",
      "[[ 0.4967 -0.1383  0.6477  1.523 ]\n",
      " [-0.2342 -0.2341  1.5792  0.7674]\n",
      " [-0.4695  0.5426 -0.4634 -0.4657]]\n"
     ]
    }
   ],
   "source": [
    "import torch\n",
    "import numpy as np\n",
    "\n",
    "\n",
    "tensor_pt = torch.randn(3, 4)\n",
    "tensor_np = np.random.randn(3, 4)\n",
    "print(tensor_pt)\n",
    "print(tensor_np)\n",
    "\n",
    "# 禁用科学模式，保留4为小数\n",
    "torch.set_printoptions(precision=4, sci_mode=False)\n",
    "np.set_printoptions(precision=4, suppress=True)\n",
    "\n",
    "print(tensor_pt)\n",
    "print(tensor_np)\n"
   ]
  },
  {
   "cell_type": "code",
   "execution_count": null,
   "metadata": {},
   "outputs": [],
   "source": []
  }
 ],
 "metadata": {
  "kernelspec": {
   "display_name": "Python 3 (ipykernel)",
   "language": "python",
   "name": "python3"
  },
  "language_info": {
   "codemirror_mode": {
    "name": "ipython",
    "version": 3
   },
   "file_extension": ".py",
   "mimetype": "text/x-python",
   "name": "python",
   "nbconvert_exporter": "python",
   "pygments_lexer": "ipython3",
   "version": "3.10.13"
  }
 },
 "nbformat": 4,
 "nbformat_minor": 2
}
