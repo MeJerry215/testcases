{
 "cells": [
  {
   "cell_type": "markdown",
   "metadata": {},
   "source": [
    "# ElemWise\n",
    "\n",
    "base line A10\n",
    "\n",
    "|  entry   | value  |\n",
    "|  ----    | ----   |\n",
    "| FP32  |  31.2TFLOPs |\n",
    "| BF16/FP16 Core  |  125MFLOPs |\n",
    "| INT8 Core       |  250TOPs   |\n",
    "| INT4 Core       |  500TOPs   |\n",
    "| 显存            |  24GB DDR  |\n",
    "| 显存带宽         |  600GB/s   |\n",
    "| 互联             | PCIe 4.0  |\n",
    "\n"
   ]
  },
  {
   "cell_type": "markdown",
   "metadata": {},
   "source": []
  }
 ],
 "metadata": {
  "language_info": {
   "name": "python"
  }
 },
 "nbformat": 4,
 "nbformat_minor": 2
}
